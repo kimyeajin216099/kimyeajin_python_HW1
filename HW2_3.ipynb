{
 "cells": [
  {
   "cell_type": "code",
   "execution_count": 4,
   "id": "49f7ab20",
   "metadata": {},
   "outputs": [
    {
     "name": "stdout",
     "output_type": "stream",
     "text": [
      "----원본----\n",
      "진달래꽃\n",
      "나 보기가 역겨워\n",
      "가실 때에는 \n",
      "말없이 고이 보내드리오리다.\n",
      "거꾸로 처리된 결과:\n",
      ".다리오리드내보 이고 이없말\n",
      "는에때 실가\n",
      "워겨역 가기보 나\n",
      "꽃래달진"
     ]
    }
   ],
   "source": [
    "def isStackFull():\n",
    "    global SIZE, stack,top\n",
    "    if (top>= SIZE-1):\n",
    "        return True\n",
    "    else:\n",
    "        return False\n",
    "    \n",
    "def push(data):\n",
    "    global SIZE, stack,top\n",
    "    if (isStackFull()==True):\n",
    "        print(\"스택이 꽉 찼습니다.\")\n",
    "        return\n",
    "    top+=1\n",
    "    stack[top]=data\n",
    "    \n",
    "def push_noStackFull(data):\n",
    "    global SIZE, stack,top\n",
    "    if top>=SIZE-1:\n",
    "        print(\"스택이 꽉 찼습니다.\")\n",
    "        return\n",
    "    top+=1\n",
    "    stack[top]=data\n",
    "    \n",
    "def isStackEmpty():\n",
    "    global SIZE, stack,top\n",
    "    if (top== -1):\n",
    "        return True\n",
    "    else:\n",
    "        return False\n",
    "    \n",
    "def pop():\n",
    "    global SIZE, stack,top\n",
    "    if (isStackEmpty()==True):\n",
    "        print(\"스택이 비었습니다.\")\n",
    "        return\n",
    "    data=stack[top]\n",
    "    stack[top]=None\n",
    "    top-=1\n",
    "    return data\n",
    "\n",
    "print(\"----원본----\")\n",
    "print(\"\"\"진달래꽃\n",
    "나 보기가 역겨워\n",
    "가실 때에는 \n",
    "말없이 고이 보내드리오리다.\"\"\")\n",
    "\n",
    "original=\"\"\"진달래꽃\n",
    "나 보기가 역겨워\n",
    "가실 때에는\n",
    "말없이 고이 보내드리오리다.\"\"\"\n",
    "\n",
    "SIZE=len(original)\n",
    "stack=[None for _ in range(SIZE)]\n",
    "top=-1\n",
    "for ch in original:\n",
    "    push(ch)\n",
    "    \n",
    "print(\"거꾸로 처리된 결과:\")\n",
    "for _ in range(SIZE):\n",
    "    print(pop(),end=\"\")"
   ]
  }
 ],
 "metadata": {
  "kernelspec": {
   "display_name": "Python 3 (ipykernel)",
   "language": "python",
   "name": "python3"
  },
  "language_info": {
   "codemirror_mode": {
    "name": "ipython",
    "version": 3
   },
   "file_extension": ".py",
   "mimetype": "text/x-python",
   "name": "python",
   "nbconvert_exporter": "python",
   "pygments_lexer": "ipython3",
   "version": "3.9.12"
  }
 },
 "nbformat": 4,
 "nbformat_minor": 5
}
