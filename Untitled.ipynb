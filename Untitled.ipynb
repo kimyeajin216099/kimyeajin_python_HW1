{
 "cells": [
  {
   "cell_type": "code",
   "execution_count": 1,
   "id": "0b1f82bf",
   "metadata": {},
   "outputs": [
    {
     "name": "stdout",
     "output_type": "stream",
     "text": [
      "100\n",
      "100\n"
     ]
    }
   ],
   "source": [
    "print(\"100\")\n",
    "print(100)"
   ]
  },
  {
   "cell_type": "code",
   "execution_count": 2,
   "id": "c36ee944",
   "metadata": {},
   "outputs": [
    {
     "name": "stdout",
     "output_type": "stream",
     "text": [
      "200\n"
     ]
    }
   ],
   "source": [
    "print(100+100)"
   ]
  },
  {
   "cell_type": "code",
   "execution_count": 3,
   "id": "31667051",
   "metadata": {},
   "outputs": [
    {
     "name": "stdout",
     "output_type": "stream",
     "text": [
      "100300\n"
     ]
    }
   ],
   "source": [
    "print(\"100\"+\"300\")"
   ]
  },
  {
   "cell_type": "code",
   "execution_count": 5,
   "id": "4395c381",
   "metadata": {},
   "outputs": [
    {
     "name": "stdout",
     "output_type": "stream",
     "text": [
      "500\n",
      "500\n"
     ]
    }
   ],
   "source": [
    "a=500\n",
    "print(a)\n",
    "print(\"%d\"%a)"
   ]
  },
  {
   "cell_type": "code",
   "execution_count": 7,
   "id": "1a2fd060",
   "metadata": {},
   "outputs": [],
   "source": [
    "#for 변수 in range(시작값, 끝값+1,증가량)"
   ]
  },
  {
   "cell_type": "code",
   "execution_count": 10,
   "id": "62bd86d8",
   "metadata": {},
   "outputs": [
    {
     "name": "stdout",
     "output_type": "stream",
     "text": [
      "결과 300\n"
     ]
    }
   ],
   "source": [
    "def plus(v1,v2):\n",
    "    result=0\n",
    "    result=v1+v2\n",
    "    return result\n",
    "\n",
    "hap=0\n",
    "hap=plus(100,200)\n",
    "print(\"결과 %d\"% plus(100,200))"
   ]
  },
  {
   "cell_type": "code",
   "execution_count": 12,
   "id": "8200d4d6",
   "metadata": {},
   "outputs": [
    {
     "name": "stdout",
     "output_type": "stream",
     "text": [
      "반환 값 300 -100\n"
     ]
    }
   ],
   "source": [
    "def multi(v1,v2):\n",
    "    retList=[]\n",
    "    res1=v1+v2\n",
    "    res2=v1-v2\n",
    "    retList.append(res1)\n",
    "    retList.append(res2)\n",
    "    return retList\n",
    "\n",
    "myList=[]\n",
    "hap,sub=0,0\n",
    "\n",
    "myList=multi(100,200)\n",
    "hap=myList[0]\n",
    "sub=myList[1]\n",
    "\n",
    "print(\"반환 값\",hap,sub)"
   ]
  },
  {
   "cell_type": "code",
   "execution_count": 16,
   "id": "d68f1932",
   "metadata": {},
   "outputs": [
    {
     "name": "stdout",
     "output_type": "stream",
     "text": [
      "1\n"
     ]
    }
   ],
   "source": [
    "for i in range(1,2):\n",
    "    print(i)"
   ]
  },
  {
   "cell_type": "code",
   "execution_count": 17,
   "id": "819fb3b0",
   "metadata": {},
   "outputs": [
    {
     "name": "stdout",
     "output_type": "stream",
     "text": [
      "[]\n"
     ]
    }
   ],
   "source": [
    "aa=[]\n",
    "print(aa)"
   ]
  },
  {
   "cell_type": "code",
   "execution_count": 18,
   "id": "37f28851",
   "metadata": {},
   "outputs": [
    {
     "name": "stdout",
     "output_type": "stream",
     "text": [
      "[0, 1, 2, 3, 4, 5, 6, 7, 8, 9]\n"
     ]
    }
   ],
   "source": [
    "for i in range(10):\n",
    "    aa.append(i)\n",
    "\n",
    "print(aa)"
   ]
  },
  {
   "cell_type": "code",
   "execution_count": 23,
   "id": "18b58abe",
   "metadata": {},
   "outputs": [
    {
     "name": "stdout",
     "output_type": "stream",
     "text": [
      "1번째 숫자:10\n",
      "2번째 숫자:20\n",
      "3번째 숫자:30\n",
      "4번째 숫자:40\n",
      "합계 100\n"
     ]
    }
   ],
   "source": [
    "for i in range(0,4):\n",
    "    aa[i]=int(input(str(i+1)+\"번째 숫자:\"))\n",
    "    \n",
    "hap=0\n",
    "\n",
    "for i in range(4):\n",
    "    hap=hap+aa[i]\n",
    "\n",
    "\n",
    "print(\"합계\",hap)"
   ]
  },
  {
   "cell_type": "code",
   "execution_count": 44,
   "id": "6aecebda",
   "metadata": {},
   "outputs": [
    {
     "name": "stdout",
     "output_type": "stream",
     "text": [
      "20\n",
      "[30, 20, 40]\n",
      "[30, 20]\n",
      "[60, 30, 20, 40]\n",
      "[60, 30, 20, 40, 50]\n",
      "[60, 30, 20, 40]\n",
      "[50, 40, 20, 30, 60]\n",
      "[20, 30, 40, 50, 60]\n"
     ]
    }
   ],
   "source": [
    "aa=[60,30,20,40]\n",
    "\n",
    "print(aa[-2])\n",
    "print(aa[1:])\n",
    "print(aa[1:3])\n",
    "print(aa)\n",
    "aa.append(50)\n",
    "print(aa)\n",
    "aa.pop()\n",
    "print(aa)\n",
    "aa.append(50)\n",
    "aa.reverse()\n",
    "print(aa)\n",
    "aa.sort()\n",
    "print(aa)"
   ]
  },
  {
   "cell_type": "code",
   "execution_count": 54,
   "id": "6295a52a",
   "metadata": {},
   "outputs": [
    {
     "name": "stdout",
     "output_type": "stream",
     "text": [
      "[[12, 11, 10], [9, 8, 7], [6, 5, 4], [3, 2, 1]]\n",
      "78\n"
     ]
    }
   ],
   "source": [
    "list1=[]\n",
    "list2=[]\n",
    "value=12\n",
    "hap=0\n",
    "for i in range(0,4):\n",
    "    for j in range(0,3):\n",
    "        list1.append(value)\n",
    "        value-=1\n",
    "    list2.append(list1)\n",
    "    list1=[]\n",
    "    \n",
    "print(list2)\n",
    "for i in range(0,4):\n",
    "    for j in range(0,3):\n",
    "        hap+=list2[i][j]\n",
    "        \n",
    "print(hap)"
   ]
  },
  {
   "cell_type": "code",
   "execution_count": 55,
   "id": "619c34f9",
   "metadata": {},
   "outputs": [
    {
     "name": "stdout",
     "output_type": "stream",
     "text": [
      "[1, 2, 3, 4]\n"
     ]
    }
   ],
   "source": [
    "aa=[1,2,3,4]\n",
    "print(aa)"
   ]
  },
  {
   "cell_type": "code",
   "execution_count": 66,
   "id": "fb930a48",
   "metadata": {},
   "outputs": [
    {
     "name": "stdout",
     "output_type": "stream",
     "text": [
      "[[0, 3, 6, 9], [0, 3, 6, 9], [0, 3, 6, 9], [0, 3, 6, 9]]\n"
     ]
    }
   ],
   "source": [
    "aa=[[i for i in range(10) if i%3==0]for k in range(4)]\n",
    "print(aa)"
   ]
  },
  {
   "cell_type": "code",
   "execution_count": 67,
   "id": "58beca47",
   "metadata": {},
   "outputs": [
    {
     "name": "stdout",
     "output_type": "stream",
     "text": [
      "{1: 2, 3: 4, 5: 6}\n"
     ]
    }
   ],
   "source": [
    "dd={1:2,3:4,5:6}\n",
    "print(dd)"
   ]
  },
  {
   "cell_type": "code",
   "execution_count": 69,
   "id": "5e58239c",
   "metadata": {},
   "outputs": [
    {
     "data": {
      "text/plain": [
       "'파abc이abc썬'"
      ]
     },
     "execution_count": 69,
     "metadata": {},
     "output_type": "execute_result"
    }
   ],
   "source": [
    "ss=\"abc\"\n",
    "ss.join(\"파이썬\")"
   ]
  },
  {
   "cell_type": "code",
   "execution_count": null,
   "id": "b81bb98d",
   "metadata": {},
   "outputs": [],
   "source": []
  }
 ],
 "metadata": {
  "kernelspec": {
   "display_name": "Python 3 (ipykernel)",
   "language": "python",
   "name": "python3"
  },
  "language_info": {
   "codemirror_mode": {
    "name": "ipython",
    "version": 3
   },
   "file_extension": ".py",
   "mimetype": "text/x-python",
   "name": "python",
   "nbconvert_exporter": "python",
   "pygments_lexer": "ipython3",
   "version": "3.9.12"
  }
 },
 "nbformat": 4,
 "nbformat_minor": 5
}
