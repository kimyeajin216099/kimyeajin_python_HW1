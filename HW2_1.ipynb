{
 "cells": [
  {
   "cell_type": "code",
   "execution_count": 7,
   "id": "fa767a63",
   "metadata": {},
   "outputs": [],
   "source": [
    "class Node():\n",
    "    def __init__(self):\n",
    "        self.data=None\n",
    "        self.link=None\n",
    "    \n",
    "import random\n",
    "def lotto():\n",
    "    dataArray=random.sample(range(1,46),6)\n",
    "    head=Node()\n",
    "    head.data=dataArray[0]\n",
    "    current=head\n",
    "    for i in range(1,6):\n",
    "        node=Node()\n",
    "        node.data=dataArray[i]\n",
    "        pre=current\n",
    "        current=node\n",
    "        pre.link=node\n",
    "    print(\"%d\"%head.data,end=\"\")\n",
    "    current=head\n",
    "    while current.link!=None:\n",
    "        current=current.link\n",
    "        print(\",%d\"%current.data,end=\"\")\n",
    "        \n"
   ]
  },
  {
   "cell_type": "code",
   "execution_count": 8,
   "id": "45420c7e",
   "metadata": {},
   "outputs": [
    {
     "name": "stdout",
     "output_type": "stream",
     "text": [
      "26,9,15,6,37,24"
     ]
    }
   ],
   "source": [
    "lotto()"
   ]
  },
  {
   "cell_type": "code",
   "execution_count": null,
   "id": "59e85490",
   "metadata": {},
   "outputs": [],
   "source": []
  }
 ],
 "metadata": {
  "kernelspec": {
   "display_name": "Python 3 (ipykernel)",
   "language": "python",
   "name": "python3"
  },
  "language_info": {
   "codemirror_mode": {
    "name": "ipython",
    "version": 3
   },
   "file_extension": ".py",
   "mimetype": "text/x-python",
   "name": "python",
   "nbconvert_exporter": "python",
   "pygments_lexer": "ipython3",
   "version": "3.9.12"
  }
 },
 "nbformat": 4,
 "nbformat_minor": 5
}
