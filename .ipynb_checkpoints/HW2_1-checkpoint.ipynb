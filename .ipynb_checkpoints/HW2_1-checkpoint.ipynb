{
 "cells": [
  {
   "cell_type": "code",
   "execution_count": 14,
   "id": "fa767a63",
   "metadata": {},
   "outputs": [
    {
     "name": "stdout",
     "output_type": "stream",
     "text": [
      "7,11,19,28,31,42"
     ]
    }
   ],
   "source": [
    "import random\n",
    "\n",
    "class Node():\n",
    "    def __init__(self):\n",
    "        self.data=None\n",
    "        self.link=None\n",
    "\n",
    "def makeSimpleLinkedList(number):\n",
    "    global memory,head,current,pre\n",
    "\n",
    "    node=Node()\n",
    "    node.data=number\n",
    "    if head==None:                #첫번째 노드인 경우\n",
    "        head=node\n",
    "        return\n",
    "    \n",
    "    if head.data>number:  #첫번째 노드보다 작은 경우\n",
    "        node.link=head\n",
    "        head=node\n",
    "        return\n",
    "    \n",
    "    current=head\n",
    "    while current.link!=None:     #중간 노드로 삽입하는 경우\n",
    "        pre=current\n",
    "        current=current.link\n",
    "        if current.data>number:\n",
    "            pre.link=node\n",
    "            node.link=current\n",
    "            return\n",
    "    current.link=node              #삽입노드가 가장 큰 경우 \n",
    "    \n",
    "dataArray=[]\n",
    "head,current,pre=None,None,None\n",
    "\n",
    "if __name__==\"__main__\":\n",
    "    \n",
    "    dataArray=random.sample(range(1,46),6)\n",
    "    for data in dataArray:\n",
    "        makeSimpleLinkedList(data)\n",
    "    \n",
    "    \n",
    "    print(\"%d\"%head.data,end=\"\")\n",
    "    current=head\n",
    "    while current.link!=None:\n",
    "        current=current.link\n",
    "        print(\",%d\"%current.data,end=\"\")\n",
    "    "
   ]
  },
  {
   "cell_type": "code",
   "execution_count": null,
   "id": "e80a5aa8",
   "metadata": {},
   "outputs": [],
   "source": []
  }
 ],
 "metadata": {
  "kernelspec": {
   "display_name": "Python 3 (ipykernel)",
   "language": "python",
   "name": "python3"
  },
  "language_info": {
   "codemirror_mode": {
    "name": "ipython",
    "version": 3
   },
   "file_extension": ".py",
   "mimetype": "text/x-python",
   "name": "python",
   "nbconvert_exporter": "python",
   "pygments_lexer": "ipython3",
   "version": "3.9.12"
  }
 },
 "nbformat": 4,
 "nbformat_minor": 5
}
