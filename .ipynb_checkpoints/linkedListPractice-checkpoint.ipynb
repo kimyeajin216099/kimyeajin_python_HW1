{
 "cells": [
  {
   "cell_type": "code",
   "execution_count": 39,
   "id": "4c43190a",
   "metadata": {},
   "outputs": [],
   "source": [
    "head,current,pre=None,None,None\n",
    "memory=[]\n",
    "dataArray=[\"a\",\"b\",\"c\",\"d\",\"e\"]\n",
    "\n",
    "class Node:\n",
    "    def __init__(self):\n",
    "        self.data=None\n",
    "        self.link=None\n",
    "\n",
    "\n",
    "def printNodes(start):\n",
    "    current=start\n",
    "    if current==None:\n",
    "        return\n",
    "    print(current.data,end='')\n",
    "    while current.link!=None:\n",
    "        current=current.link\n",
    "        print(current.data,end='')\n",
    "    print()\n",
    "\n",
    "def insertNode(findData,insertData):\n",
    "    global memory,head,current,pre\n",
    "    \n",
    "    node=Node()\n",
    "    node.data=insertData\n",
    "    \n",
    "    if head.data==findData:\n",
    "        node.link=head\n",
    "        head=node\n",
    "        return\n",
    "    \n",
    "    current=head\n",
    "    while(current.link!=None):\n",
    "        pre=current\n",
    "        current=current.link\n",
    "        if current.data==findData:\n",
    "            node.link=current\n",
    "            pre.link=node\n",
    "            return\n",
    "    \n",
    "    current.link=node\n",
    "    \n",
    "def deleteNode(deleteData):\n",
    "    global memory,head,current,pre\n",
    "    \n",
    "    current=head\n",
    "    if head.data==deleteData:\n",
    "        head=current.link\n",
    "        del(current)\n",
    "        return\n",
    "    \n",
    "    while current.link!=None:\n",
    "        pre=current\n",
    "        current=current.link\n",
    "        if current.data==deleteData:\n",
    "            pre.link=current.link\n",
    "            del(current)\n",
    "            return\n",
    "    \n"
   ]
  },
  {
   "cell_type": "code",
   "execution_count": 40,
   "id": "d6dda44a",
   "metadata": {},
   "outputs": [
    {
     "name": "stdout",
     "output_type": "stream",
     "text": [
      "memory.append(node)의 의미, node.data는 data를 넣는 거고 node를 append하는 의미가 무엇인지 질문하기 node를 넣는 것인지 주소 값만 배열로 넣는 것인지\n"
     ]
    }
   ],
   "source": [
    "print(\"memory.append(node)의 의미, node.data는 data를 넣는 거고 node를 append하는 의미가 무엇인지 질문하기 node를 넣는 것인지 주소 값만 배열로 넣는 것인지\")"
   ]
  },
  {
   "cell_type": "code",
   "execution_count": 41,
   "id": "620ea2c5",
   "metadata": {},
   "outputs": [
    {
     "name": "stdout",
     "output_type": "stream",
     "text": [
      "abcde\n",
      "ab1cde\n",
      "ab12cde\n",
      "ab12c3de\n",
      "start:ab12c3de\n",
      "start:ab1cde\n",
      "[<__main__.Node object at 0x0000023D4966E640>, <__main__.Node object at 0x0000023D47A0DD60>, <__main__.Node object at 0x0000023D4966E7C0>, <__main__.Node object at 0x0000023D4966E7F0>, <__main__.Node object at 0x0000023D4966E880>]\n"
     ]
    }
   ],
   "source": [
    "if __name__==\"__main__\":\n",
    "\n",
    "    node=Node()\n",
    "    node.data=dataArray[0]\n",
    "    head=node\n",
    "    memory.append(node)\n",
    "    \n",
    "    for data in dataArray[1:]:\n",
    "        pre=node\n",
    "        node=Node()\n",
    "        node.data=data\n",
    "        pre.link=node\n",
    "        memory.append(node)\n",
    "    \n",
    "    printNodes(head)\n",
    "    \n",
    "    insertNode(\"c\",\"1\")\n",
    "    printNodes(head)\n",
    "    \n",
    "    insertNode(\"c\",\"2\")\n",
    "    printNodes(head)\n",
    "    \n",
    "    insertNode(\"d\",\"3\")\n",
    "    printNodes(head)\n",
    "    \n",
    "    insertNode(\"a\",\"start:\")\n",
    "    printNodes(head)\n",
    "    \n",
    "    deleteNode(\"3\")\n",
    "    deleteNode(\"2\")\n",
    "    printNodes(head)\n",
    "    print(memory)"
   ]
  },
  {
   "cell_type": "code",
   "execution_count": 47,
   "id": "bf46c9ec",
   "metadata": {},
   "outputs": [
    {
     "name": "stdout",
     "output_type": "stream",
     "text": [
      "['e', '5']['d', '3']['c', '2']['b', '1']['a', '0']\n"
     ]
    }
   ],
   "source": [
    "dataArray2=[[\"a\",\"0\"],[\"b\",\"1\"],[\"c\",\"2\"],[\"d\",\"3\"],[\"e\",\"5\"]]\n",
    "\n",
    "def makeSimpleLinkedList(data):\n",
    "    global memory,head,current,pre\n",
    "    \n",
    "    node=Node()\n",
    "    node.data=data\n",
    "    \n",
    "    if head==None:\n",
    "        head=node\n",
    "        return\n",
    "    \n",
    "    if head.data[1]<node.data[1]:\n",
    "        node.link=head\n",
    "        head=node\n",
    "        return\n",
    "    \n",
    "    current=head\n",
    "    while current!=None:\n",
    "        pre=current\n",
    "        current=current.link\n",
    "        if(current.data[1]<node.data[1]):\n",
    "            node.link=current\n",
    "            pre.link=node\n",
    "            return\n",
    "        \n",
    "    current.link=node\n",
    "        \n",
    "if __name__==\"__main__\":\n",
    "\n",
    "    node=Node()\n",
    "    node.data=dataArray2[0]\n",
    "    head=node\n",
    "    memory.append(node)\n",
    "    for data in dataArray2[1:]:\n",
    "        makeSimpleLinkedList(data)\n",
    "        \n",
    "    printNodes(head)\n",
    "        "
   ]
  },
  {
   "cell_type": "code",
   "execution_count": null,
   "id": "113fa089",
   "metadata": {},
   "outputs": [],
   "source": []
  }
 ],
 "metadata": {
  "kernelspec": {
   "display_name": "Python 3 (ipykernel)",
   "language": "python",
   "name": "python3"
  },
  "language_info": {
   "codemirror_mode": {
    "name": "ipython",
    "version": 3
   },
   "file_extension": ".py",
   "mimetype": "text/x-python",
   "name": "python",
   "nbconvert_exporter": "python",
   "pygments_lexer": "ipython3",
   "version": "3.9.12"
  }
 },
 "nbformat": 4,
 "nbformat_minor": 5
}
