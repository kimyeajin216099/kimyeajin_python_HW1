{
 "cells": [
  {
   "cell_type": "code",
   "execution_count": 1,
   "id": "0b1f82bf",
   "metadata": {},
   "outputs": [
    {
     "name": "stdout",
     "output_type": "stream",
     "text": [
      "100\n",
      "100\n"
     ]
    }
   ],
   "source": [
    "print(\"100\")\n",
    "print(100)"
   ]
  },
  {
   "cell_type": "code",
   "execution_count": 2,
   "id": "c36ee944",
   "metadata": {},
   "outputs": [
    {
     "name": "stdout",
     "output_type": "stream",
     "text": [
      "200\n"
     ]
    }
   ],
   "source": [
    "print(100+100)"
   ]
  },
  {
   "cell_type": "code",
   "execution_count": 3,
   "id": "31667051",
   "metadata": {},
   "outputs": [
    {
     "name": "stdout",
     "output_type": "stream",
     "text": [
      "100300\n"
     ]
    }
   ],
   "source": [
    "print(\"100\"+\"300\")"
   ]
  },
  {
   "cell_type": "code",
   "execution_count": 5,
   "id": "4395c381",
   "metadata": {},
   "outputs": [
    {
     "name": "stdout",
     "output_type": "stream",
     "text": [
      "500\n",
      "500\n"
     ]
    }
   ],
   "source": [
    "a=500\n",
    "print(a)\n",
    "print(\"%d\"%a)"
   ]
  },
  {
   "cell_type": "code",
   "execution_count": 7,
   "id": "1a2fd060",
   "metadata": {},
   "outputs": [],
   "source": [
    "#for 변수 in range(시작값, 끝값+1,증가량)"
   ]
  },
  {
   "cell_type": "code",
   "execution_count": 10,
   "id": "62bd86d8",
   "metadata": {},
   "outputs": [
    {
     "name": "stdout",
     "output_type": "stream",
     "text": [
      "결과 300\n"
     ]
    }
   ],
   "source": [
    "def plus(v1,v2):\n",
    "    result=0\n",
    "    result=v1+v2\n",
    "    return result\n",
    "\n",
    "hap=0\n",
    "hap=plus(100,200)\n",
    "print(\"결과 %d\"% plus(100,200))"
   ]
  },
  {
   "cell_type": "code",
   "execution_count": 12,
   "id": "8200d4d6",
   "metadata": {},
   "outputs": [
    {
     "name": "stdout",
     "output_type": "stream",
     "text": [
      "반환 값 300 -100\n"
     ]
    }
   ],
   "source": [
    "def multi(v1,v2):\n",
    "    retList=[]\n",
    "    res1=v1+v2\n",
    "    res2=v1-v2\n",
    "    retList.append(res1)\n",
    "    retList.append(res2)\n",
    "    return retList\n",
    "\n",
    "myList=[]\n",
    "hap,sub=0,0\n",
    "\n",
    "myList=multi(100,200)\n",
    "hap=myList[0]\n",
    "sub=myList[1]\n",
    "\n",
    "print(\"반환 값\",hap,sub)"
   ]
  },
  {
   "cell_type": "code",
   "execution_count": 16,
   "id": "d68f1932",
   "metadata": {},
   "outputs": [
    {
     "name": "stdout",
     "output_type": "stream",
     "text": [
      "1\n"
     ]
    }
   ],
   "source": [
    "for i in range(1,2):\n",
    "    print(i)"
   ]
  },
  {
   "cell_type": "code",
   "execution_count": 17,
   "id": "819fb3b0",
   "metadata": {},
   "outputs": [
    {
     "name": "stdout",
     "output_type": "stream",
     "text": [
      "[]\n"
     ]
    }
   ],
   "source": [
    "aa=[]\n",
    "print(aa)"
   ]
  },
  {
   "cell_type": "code",
   "execution_count": 18,
   "id": "37f28851",
   "metadata": {},
   "outputs": [
    {
     "name": "stdout",
     "output_type": "stream",
     "text": [
      "[0, 1, 2, 3, 4, 5, 6, 7, 8, 9]\n"
     ]
    }
   ],
   "source": [
    "for i in range(10):\n",
    "    aa.append(i)\n",
    "\n",
    "print(aa)"
   ]
  },
  {
   "cell_type": "code",
   "execution_count": 23,
   "id": "18b58abe",
   "metadata": {},
   "outputs": [
    {
     "name": "stdout",
     "output_type": "stream",
     "text": [
      "1번째 숫자:10\n",
      "2번째 숫자:20\n",
      "3번째 숫자:30\n",
      "4번째 숫자:40\n",
      "합계 100\n"
     ]
    }
   ],
   "source": [
    "for i in range(0,4):\n",
    "    aa[i]=int(input(str(i+1)+\"번째 숫자:\"))\n",
    "    \n",
    "hap=0\n",
    "\n",
    "for i in range(4):\n",
    "    hap=hap+aa[i]\n",
    "\n",
    "\n",
    "print(\"합계\",hap)"
   ]
  },
  {
   "cell_type": "code",
   "execution_count": 44,
   "id": "6aecebda",
   "metadata": {},
   "outputs": [
    {
     "name": "stdout",
     "output_type": "stream",
     "text": [
      "20\n",
      "[30, 20, 40]\n",
      "[30, 20]\n",
      "[60, 30, 20, 40]\n",
      "[60, 30, 20, 40, 50]\n",
      "[60, 30, 20, 40]\n",
      "[50, 40, 20, 30, 60]\n",
      "[20, 30, 40, 50, 60]\n"
     ]
    }
   ],
   "source": [
    "aa=[60,30,20,40]\n",
    "\n",
    "print(aa[-2])\n",
    "print(aa[1:])\n",
    "print(aa[1:3])\n",
    "print(aa)\n",
    "aa.append(50)\n",
    "print(aa)\n",
    "aa.pop()\n",
    "print(aa)\n",
    "aa.append(50)\n",
    "aa.reverse()\n",
    "print(aa)\n",
    "aa.sort()\n",
    "print(aa)"
   ]
  },
  {
   "cell_type": "code",
   "execution_count": 54,
   "id": "6295a52a",
   "metadata": {},
   "outputs": [
    {
     "name": "stdout",
     "output_type": "stream",
     "text": [
      "[[12, 11, 10], [9, 8, 7], [6, 5, 4], [3, 2, 1]]\n",
      "78\n"
     ]
    }
   ],
   "source": [
    "list1=[]\n",
    "list2=[]\n",
    "value=12\n",
    "hap=0\n",
    "for i in range(0,4):\n",
    "    for j in range(0,3):\n",
    "        list1.append(value)\n",
    "        value-=1\n",
    "    list2.append(list1)\n",
    "    list1=[]\n",
    "    \n",
    "print(list2)\n",
    "for i in range(0,4):\n",
    "    for j in range(0,3):\n",
    "        hap+=list2[i][j]\n",
    "        \n",
    "print(hap)"
   ]
  },
  {
   "cell_type": "code",
   "execution_count": 55,
   "id": "619c34f9",
   "metadata": {},
   "outputs": [
    {
     "name": "stdout",
     "output_type": "stream",
     "text": [
      "[1, 2, 3, 4]\n"
     ]
    }
   ],
   "source": [
    "aa=[1,2,3,4]\n",
    "print(aa)"
   ]
  },
  {
   "cell_type": "code",
   "execution_count": 66,
   "id": "fb930a48",
   "metadata": {},
   "outputs": [
    {
     "name": "stdout",
     "output_type": "stream",
     "text": [
      "[[0, 3, 6, 9], [0, 3, 6, 9], [0, 3, 6, 9], [0, 3, 6, 9]]\n"
     ]
    }
   ],
   "source": [
    "aa=[[i for i in range(10) if i%3==0]for k in range(4)]\n",
    "print(aa)"
   ]
  },
  {
   "cell_type": "code",
   "execution_count": 67,
   "id": "58beca47",
   "metadata": {},
   "outputs": [
    {
     "name": "stdout",
     "output_type": "stream",
     "text": [
      "{1: 2, 3: 4, 5: 6}\n"
     ]
    }
   ],
   "source": [
    "dd={1:2,3:4,5:6}\n",
    "print(dd)"
   ]
  },
  {
   "cell_type": "code",
   "execution_count": 69,
   "id": "5e58239c",
   "metadata": {},
   "outputs": [
    {
     "data": {
      "text/plain": [
       "'파abc이abc썬'"
      ]
     },
     "execution_count": 69,
     "metadata": {},
     "output_type": "execute_result"
    }
   ],
   "source": [
    "ss=\"abc\"\n",
    "ss.join(\"파이썬\")"
   ]
  },
  {
   "cell_type": "code",
   "execution_count": 70,
   "id": "b81bb98d",
   "metadata": {},
   "outputs": [
    {
     "name": "stdout",
     "output_type": "stream",
     "text": [
      "{'학번': 60191711, '이름': '김예진', '학과': '전자공학과'}\n"
     ]
    }
   ],
   "source": [
    "student1={\"학번\":60191711, \"이름\":\"김예진\",\"학과\":\"전자공학과\"}\n",
    "print(student1)"
   ]
  },
  {
   "cell_type": "code",
   "execution_count": 73,
   "id": "74bcbc2e",
   "metadata": {},
   "outputs": [
    {
     "data": {
      "text/plain": [
       "{'학번': 60191711, '이름': '김예진', '학과': '전자공학과', '연락처': '010-9663-7133'}"
      ]
     },
     "execution_count": 73,
     "metadata": {},
     "output_type": "execute_result"
    }
   ],
   "source": [
    "student1[\"연락처\"]=\"010-9663-7133\"\n",
    "student1"
   ]
  },
  {
   "cell_type": "code",
   "execution_count": 74,
   "id": "0a248df9",
   "metadata": {},
   "outputs": [],
   "source": [
    "del(student1[\"학과\"])"
   ]
  },
  {
   "cell_type": "code",
   "execution_count": 75,
   "id": "dec92b77",
   "metadata": {},
   "outputs": [
    {
     "data": {
      "text/plain": [
       "{'학번': 60191711, '이름': '김예진', '연락처': '010-9663-7133'}"
      ]
     },
     "execution_count": 75,
     "metadata": {},
     "output_type": "execute_result"
    }
   ],
   "source": [
    "student1"
   ]
  },
  {
   "cell_type": "code",
   "execution_count": 76,
   "id": "49a72c3f",
   "metadata": {},
   "outputs": [
    {
     "data": {
      "text/plain": [
       "'김예진'"
      ]
     },
     "execution_count": 76,
     "metadata": {},
     "output_type": "execute_result"
    }
   ],
   "source": [
    "student1.get(\"이름\")"
   ]
  },
  {
   "cell_type": "code",
   "execution_count": 82,
   "id": "241ab5cd",
   "metadata": {},
   "outputs": [
    {
     "data": {
      "text/plain": [
       "'010-9663-7133'"
      ]
     },
     "execution_count": 82,
     "metadata": {},
     "output_type": "execute_result"
    }
   ],
   "source": [
    "student1.get(\"연락처\")"
   ]
  },
  {
   "cell_type": "code",
   "execution_count": 83,
   "id": "6941b0bd",
   "metadata": {},
   "outputs": [
    {
     "data": {
      "text/plain": [
       "'010-9663-7133'"
      ]
     },
     "execution_count": 83,
     "metadata": {},
     "output_type": "execute_result"
    }
   ],
   "source": [
    "student1[\"연락처\"]"
   ]
  },
  {
   "cell_type": "code",
   "execution_count": 84,
   "id": "995ac678",
   "metadata": {},
   "outputs": [
    {
     "data": {
      "text/plain": [
       "dict_keys(['학번', '이름', '연락처'])"
      ]
     },
     "execution_count": 84,
     "metadata": {},
     "output_type": "execute_result"
    }
   ],
   "source": [
    "student1.keys()"
   ]
  },
  {
   "cell_type": "code",
   "execution_count": 85,
   "id": "511a855b",
   "metadata": {},
   "outputs": [
    {
     "data": {
      "text/plain": [
       "['학번', '이름', '연락처']"
      ]
     },
     "execution_count": 85,
     "metadata": {},
     "output_type": "execute_result"
    }
   ],
   "source": [
    "list(student1.keys())"
   ]
  },
  {
   "cell_type": "code",
   "execution_count": 90,
   "id": "2ad62001",
   "metadata": {},
   "outputs": [
    {
     "data": {
      "text/plain": [
       "[60191711, '김예진', '010-9663-7133']"
      ]
     },
     "execution_count": 90,
     "metadata": {},
     "output_type": "execute_result"
    }
   ],
   "source": [
    "list(student1.values())"
   ]
  },
  {
   "cell_type": "code",
   "execution_count": 88,
   "id": "38bd17a5",
   "metadata": {},
   "outputs": [
    {
     "data": {
      "text/plain": [
       "[('학번', 60191711), ('이름', '김예진'), ('연락처', '010-9663-7133')]"
      ]
     },
     "execution_count": 88,
     "metadata": {},
     "output_type": "execute_result"
    }
   ],
   "source": [
    "list(student1.items())"
   ]
  },
  {
   "cell_type": "code",
   "execution_count": 93,
   "id": "2f161564",
   "metadata": {},
   "outputs": [
    {
     "name": "stdout",
     "output_type": "stream",
     "text": [
      "학번 60191711\n",
      "이름 김예진\n",
      "연락처 010-9663-7133\n"
     ]
    }
   ],
   "source": [
    "for k in student1.keys():\n",
    "    print(k,student1[k])"
   ]
  },
  {
   "cell_type": "code",
   "execution_count": 94,
   "id": "26c04c13",
   "metadata": {},
   "outputs": [
    {
     "data": {
      "text/plain": [
       "{1, 2, 3, 4, 5, 6}"
      ]
     },
     "execution_count": 94,
     "metadata": {},
     "output_type": "execute_result"
    }
   ],
   "source": [
    "myset1={1,2,2,3,5,6,6,4,2}\n",
    "myset1"
   ]
  },
  {
   "cell_type": "code",
   "execution_count": 96,
   "id": "1935a2f8",
   "metadata": {},
   "outputs": [
    {
     "data": {
      "text/plain": [
       "{1, 2, 3, 4, 6, 21}"
      ]
     },
     "execution_count": 96,
     "metadata": {},
     "output_type": "execute_result"
    }
   ],
   "source": [
    "setList=[1,2,2,3,4,6,4,2,3,21]\n",
    "set(setList)"
   ]
  },
  {
   "cell_type": "code",
   "execution_count": 104,
   "id": "e063be96",
   "metadata": {},
   "outputs": [
    {
     "name": "stdout",
     "output_type": "stream",
     "text": [
      "14 17 23 29 36 44 \n",
      " 7  8 20 26 30 32 \n",
      "10 16 17 18 20 39 \n",
      " 3  8 22 27 32 33 \n",
      " 7 17 21 22 25 35 \n"
     ]
    }
   ],
   "source": [
    "import random\n",
    "\n",
    "totalLotto=[]\n",
    "lotto=[]\n",
    "count=5\n",
    "\n",
    "for _ in range(count):\n",
    "    lotto=[]\n",
    "    while True:\n",
    "        num=random.randint(1,45)\n",
    "        if num not in lotto:\n",
    "            lotto.append(num)\n",
    "        if len(lotto) >= 6 :\n",
    "            break\n",
    "    totalLotto.append(lotto)\n",
    "    \n",
    "#print(totalLotto)\n",
    "\n",
    "for a in totalLotto:\n",
    "    a.sort()\n",
    "    for i in range(0,6):\n",
    "        print(\"%2d\" % a[i], end = ' ')\n",
    "    print()"
   ]
  },
  {
   "cell_type": "code",
   "execution_count": 105,
   "id": "2f69054c",
   "metadata": {},
   "outputs": [
    {
     "name": "stdout",
     "output_type": "stream",
     "text": [
      "[3, 12, 26, 35, 38, 42]\n",
      "[8, 9, 10, 14, 23, 27]\n",
      "[4, 5, 9, 15, 20, 33]\n",
      "[8, 11, 13, 25, 27, 35]\n",
      "[2, 9, 23, 27, 37, 40]\n"
     ]
    }
   ],
   "source": [
    "import random\n",
    "lotto=[]\n",
    "totalLotto=[]\n",
    "count=5\n",
    "\n",
    "for _ in range(count):\n",
    "    lotto=random.sample(range(1,45),6)\n",
    "    totalLotto.append(lotto)\n",
    "\n",
    "for lotto in totalLotto:\n",
    "    lotto.sort()\n",
    "    print(lotto)\n",
    "    print"
   ]
  },
  {
   "cell_type": "code",
   "execution_count": 137,
   "id": "b1cfc743",
   "metadata": {},
   "outputs": [],
   "source": [
    "List=[\"가\",\"나\",\"다\",\"라\",\"마\"]\n",
    "\n",
    "def insert_data(position,addData):\n",
    "    if position<0 or position>len(List):\n",
    "        print(\"범위 벗어남\")\n",
    "        return\n",
    "    \n",
    "    List.append(None)\n",
    "    KLen=len(List)\n",
    "    \n",
    "    for i in range(KLen-1,position,-1):\n",
    "        List[i]=List[i-1]\n",
    "        List[i-1]=None\n",
    "        \n",
    "    List[position]=addData\n",
    "    \n",
    "    "
   ]
  },
  {
   "cell_type": "code",
   "execution_count": 138,
   "id": "43c0391b",
   "metadata": {},
   "outputs": [],
   "source": [
    "def delete_data(position):\n",
    "    if position<0 or position>len(List):\n",
    "        print(\"범위 벗어남\")\n",
    "        return\n",
    "    KLen=len(List)\n",
    "    List[position]=None\n",
    "    \n",
    "    for i in range(position,KLen-1,1):\n",
    "        List[i]=List[i+1]\n",
    "        List[i+1]=None\n",
    "        \n",
    "    del(List[KLen-1])"
   ]
  },
  {
   "cell_type": "code",
   "execution_count": 140,
   "id": "2258fbb4",
   "metadata": {},
   "outputs": [
    {
     "name": "stdout",
     "output_type": "stream",
     "text": [
      "['가', '나', '추', '추', '다', '라', '마']\n",
      "['가', '나', '추', '추', '다', '마']\n",
      "['가', '나', '추', '추', '마']\n"
     ]
    }
   ],
   "source": [
    "insert_data(2,\"추\")\n",
    "print(List)\n",
    "delete_data(5)\n",
    "print(List)\n",
    "delete_data(4)\n",
    "print(List)"
   ]
  },
  {
   "cell_type": "code",
   "execution_count": 141,
   "id": "f29eec76",
   "metadata": {},
   "outputs": [],
   "source": [
    "def add_data(addData):\n",
    "    List.append(None)\n",
    "    kLen=len(List)\n",
    "    List[kLen-1]=addData\n",
    "     "
   ]
  },
  {
   "cell_type": "code",
   "execution_count": 144,
   "id": "d675e32d",
   "metadata": {},
   "outputs": [
    {
     "name": "stdout",
     "output_type": "stream",
     "text": [
      "[7, -4, 0, 5]\n",
      "P(x)= + 7x^3 + -4x^2 + 0x^1 + 5x^0\n"
     ]
    }
   ],
   "source": [
    "px=[7,-4,0,5]\n",
    "print(px)\n",
    "polyStr=\"P(x)=\"\n",
    "polyStr+=\" + \"+str(px[0])+\"x^\"+str(3)\n",
    "polyStr+=\" + \"+str(px[1])+\"x^\"+str(2)\n",
    "polyStr+=\" + \"+str(px[2])+\"x^\"+str(1)\n",
    "polyStr+=\" + \"+str(px[3])+\"x^\"+str(0)\n",
    "print(polyStr)"
   ]
  },
  {
   "cell_type": "code",
   "execution_count": 146,
   "id": "1f3b4771",
   "metadata": {},
   "outputs": [],
   "source": [
    "def printPoly(p_x):\n",
    "    term=len(p_x)-1\n",
    "    polyStr=\"P(x) = \"\n",
    "    \n",
    "    for i in range(len(px)):\n",
    "        coef=p_x[i]\n",
    "        \n",
    "        if(coef>=0):\n",
    "            polyStr+=\" + \"\n",
    "        polyStr+=str(coef)+\"x^\"+str(term)+\"\"\n",
    "        term-=1\n",
    "        \n",
    "    return polyStr"
   ]
  },
  {
   "cell_type": "code",
   "execution_count": 154,
   "id": "b052dea3",
   "metadata": {},
   "outputs": [],
   "source": [
    "def calcPoly(xVal,p_x):\n",
    "    retValue=0\n",
    "    term=len(p_x)-1\n",
    "    \n",
    "    for i in range(len(px)):\n",
    "        coef=p_x[i]\n",
    "        retValue+=coef*xVal**term\n",
    "        term-=1\n",
    "        \n",
    "    return retValue\n"
   ]
  },
  {
   "cell_type": "code",
   "execution_count": 155,
   "id": "16db0b50",
   "metadata": {},
   "outputs": [
    {
     "name": "stdout",
     "output_type": "stream",
     "text": [
      "P(x) =  + 7x^3-4x^2 + 0x^1 + 5x^0\n",
      "45\n"
     ]
    }
   ],
   "source": [
    "px=[7,-4,0,5]\n",
    "\n",
    "pStr=printPoly(px)\n",
    "print(pStr)\n",
    "\n",
    "Xvalue=calcPoly(2,px)\n",
    "print(Xvalue)"
   ]
  },
  {
   "cell_type": "code",
   "execution_count": 158,
   "id": "ff053b16",
   "metadata": {},
   "outputs": [],
   "source": [
    "class Node():\n",
    "    def __init__(self):\n",
    "        self.data=None\n",
    "        self.link=None\n",
    "\n",
    "def printNodes(start):\n",
    "    current=start\n",
    "    if current==None:\n",
    "        return\n",
    "    print(current.data,end='')\n",
    "    while current.link!=None:\n",
    "        current=current.link\n",
    "        print(current.data,end='')\n",
    "    print()"
   ]
  },
  {
   "cell_type": "code",
   "execution_count": 160,
   "id": "c375c365",
   "metadata": {},
   "outputs": [],
   "source": [
    "def insertNode(findData,insertData):\n",
    "    global memory,head,current,pre\n",
    "    \n",
    "    if head.data==findData:\n",
    "        node=Node()\n",
    "        node.data=insertData\n",
    "        node.link=head\n",
    "        head=node\n",
    "        return\n",
    "    \n",
    "    current=head\n",
    "    while current.link!=None:\n",
    "        pre=current\n",
    "        current=current.link\n",
    "        if current.data==findData:\n",
    "            node=Node()\n",
    "            node.data=insertData\n",
    "            node.link=current\n",
    "            pre.link=node\n",
    "            return\n",
    "    node=Node()\n",
    "    node.data=insertData\n",
    "    current.link=node\n",
    "    "
   ]
  },
  {
   "cell_type": "code",
   "execution_count": 161,
   "id": "88479ce2",
   "metadata": {},
   "outputs": [],
   "source": [
    "def insertNode(findData,insertData):\n",
    "    global memory,head,current,pre\n",
    "    \n",
    "    node=Node()\n",
    "    node.data=insertData\n",
    "    \n",
    "    if head.data==findData:\n",
    "        node.link=head\n",
    "        head=node\n",
    "        return\n",
    "    \n",
    "    current=head\n",
    "    while current.link!=None:\n",
    "        pre=current\n",
    "        current=current.link\n",
    "        if current.data==findData:\n",
    "            node.link=current\n",
    "            pre.link=node\n",
    "            return\n",
    "        \n",
    "    current.link=node\n",
    "    "
   ]
  },
  {
   "cell_type": "code",
   "execution_count": 162,
   "id": "0ff4b7ff",
   "metadata": {},
   "outputs": [],
   "source": [
    "def deleteNode(deleteData):\n",
    "    global memory,head,current,pre\n",
    "    \n",
    "    if head.data==deleteData:\n",
    "        current=head\n",
    "        head=head.link\n",
    "        del(current)\n",
    "        return\n",
    "    \n",
    "    current=head\n",
    "    while current.link!=None:\n",
    "        pre=current\n",
    "        current=current.link\n",
    "        if current.data==deleteData:\n",
    "            pre.link=current.link\n",
    "            del(current)\n",
    "            return"
   ]
  },
  {
   "cell_type": "code",
   "execution_count": 163,
   "id": "67007cec",
   "metadata": {},
   "outputs": [],
   "source": [
    "def deleteNode(deleteData):\n",
    "    global memory,head,current,pre\n",
    "    \n",
    "    current=head\n",
    "    \n",
    "    if head.data==deleteData:\n",
    "        head=head.link\n",
    "        del(current)\n",
    "        return\n",
    "    \n",
    "    while current.link!=None:\n",
    "        pre=current\n",
    "        current=current.link\n",
    "        if current.data==deleteData:\n",
    "            pre.link=current.link\n",
    "            del(current)\n",
    "            return"
   ]
  },
  {
   "cell_type": "code",
   "execution_count": 164,
   "id": "8985acee",
   "metadata": {},
   "outputs": [],
   "source": [
    "def findNode(findData):\n",
    "    global memory,head,current,pre\n",
    "    current=head\n",
    "    if current.data==findData:\n",
    "        return current\n",
    "    while current.link!=None:\n",
    "        current=current.link\n",
    "        if current.data==findData:\n",
    "            return current\n",
    "    return Node()"
   ]
  },
  {
   "cell_type": "code",
   "execution_count": null,
   "id": "df60c20f",
   "metadata": {},
   "outputs": [],
   "source": [
    "def makeSimpleLinkedList(namePhone):\n",
    "    global memory,head,current,pre\n",
    "    printNodes(head)\n",
    "    node=Node()\n",
    "    node.data=namePhone\n",
    "    if head==None:                #첫번째 노드인 경우\n",
    "        head=node\n",
    "        return\n",
    "    \n",
    "    if head.data[0]>namePhone[0]:  #첫번째 노드보다 작은 경우\n",
    "        node.link=head\n",
    "        head=node\n",
    "        return\n",
    "    \n",
    "    current=head\n",
    "    while current.link!=None:     #중간 노드로 삽입하는 경우\n",
    "        pre=current\n",
    "        current=current.link\n",
    "        if current.data[0]>namePhone[0]:\n",
    "            pre.link=node\n",
    "            node.link=current\n",
    "            return\n",
    "    current.link=node              #삽입노드가 가장 큰 경우 \n",
    "    \n",
    "    "
   ]
  }
 ],
 "metadata": {
  "kernelspec": {
   "display_name": "Python 3 (ipykernel)",
   "language": "python",
   "name": "python3"
  },
  "language_info": {
   "codemirror_mode": {
    "name": "ipython",
    "version": 3
   },
   "file_extension": ".py",
   "mimetype": "text/x-python",
   "name": "python",
   "nbconvert_exporter": "python",
   "pygments_lexer": "ipython3",
   "version": "3.9.12"
  }
 },
 "nbformat": 4,
 "nbformat_minor": 5
}
